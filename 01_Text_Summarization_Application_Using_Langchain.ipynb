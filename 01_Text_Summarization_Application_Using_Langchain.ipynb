{
  "cells": [
    {
      "cell_type": "markdown",
      "metadata": {
        "id": "view-in-github",
        "colab_type": "text"
      },
      "source": [
        "<a href=\"https://colab.research.google.com/github/AIWalaBro/GenerativeAI_Scratch_to_Advanced/blob/main/1_Text_Summarization_Application_Using_Langchain.ipynb\" target=\"_parent\"><img src=\"https://colab.research.google.com/assets/colab-badge.svg\" alt=\"Open In Colab\"/></a>"
      ]
    },
    {
      "cell_type": "code",
      "execution_count": 1,
      "metadata": {
        "colab": {
          "base_uri": "https://localhost:8080/"
        },
        "id": "Hm_y6viKh46T",
        "outputId": "bf6d4e0a-e1d6-4b89-d126-9977f59c0ddc"
      },
      "outputs": [
        {
          "output_type": "stream",
          "name": "stdout",
          "text": [
            "Collecting langchain\n",
            "  Downloading langchain-0.1.10-py3-none-any.whl (806 kB)\n",
            "\u001b[?25l     \u001b[90m━━━━━━━━━━━━━━━━━━━━━━━━━━━━━━━━━━━━━━━━\u001b[0m \u001b[32m0.0/806.2 kB\u001b[0m \u001b[31m?\u001b[0m eta \u001b[36m-:--:--\u001b[0m\r\u001b[2K     \u001b[91m━━━━━━━\u001b[0m\u001b[91m╸\u001b[0m\u001b[90m━━━━━━━━━━━━━━━━━━━━━━━━━━━━━━━━\u001b[0m \u001b[32m153.6/806.2 kB\u001b[0m \u001b[31m4.3 MB/s\u001b[0m eta \u001b[36m0:00:01\u001b[0m\r\u001b[2K     \u001b[91m━━━━━━━━━━━━━━━━━━━━━━━━━━\u001b[0m\u001b[90m╺\u001b[0m\u001b[90m━━━━━━━━━━━━━\u001b[0m \u001b[32m532.5/806.2 kB\u001b[0m \u001b[31m7.6 MB/s\u001b[0m eta \u001b[36m0:00:01\u001b[0m\r\u001b[2K     \u001b[90m━━━━━━━━━━━━━━━━━━━━━━━━━━━━━━━━━━━━━━━━\u001b[0m \u001b[32m806.2/806.2 kB\u001b[0m \u001b[31m7.6 MB/s\u001b[0m eta \u001b[36m0:00:00\u001b[0m\n",
            "\u001b[?25hRequirement already satisfied: PyYAML>=5.3 in /usr/local/lib/python3.10/dist-packages (from langchain) (6.0.1)\n",
            "Requirement already satisfied: SQLAlchemy<3,>=1.4 in /usr/local/lib/python3.10/dist-packages (from langchain) (2.0.27)\n",
            "Requirement already satisfied: aiohttp<4.0.0,>=3.8.3 in /usr/local/lib/python3.10/dist-packages (from langchain) (3.9.3)\n",
            "Requirement already satisfied: async-timeout<5.0.0,>=4.0.0 in /usr/local/lib/python3.10/dist-packages (from langchain) (4.0.3)\n",
            "Collecting dataclasses-json<0.7,>=0.5.7 (from langchain)\n",
            "  Downloading dataclasses_json-0.6.4-py3-none-any.whl (28 kB)\n",
            "Collecting jsonpatch<2.0,>=1.33 (from langchain)\n",
            "  Downloading jsonpatch-1.33-py2.py3-none-any.whl (12 kB)\n",
            "Collecting langchain-community<0.1,>=0.0.25 (from langchain)\n",
            "  Downloading langchain_community-0.0.25-py3-none-any.whl (1.8 MB)\n",
            "\u001b[2K     \u001b[90m━━━━━━━━━━━━━━━━━━━━━━━━━━━━━━━━━━━━━━━━\u001b[0m \u001b[32m1.8/1.8 MB\u001b[0m \u001b[31m13.2 MB/s\u001b[0m eta \u001b[36m0:00:00\u001b[0m\n",
            "\u001b[?25hCollecting langchain-core<0.2,>=0.1.28 (from langchain)\n",
            "  Downloading langchain_core-0.1.28-py3-none-any.whl (252 kB)\n",
            "\u001b[2K     \u001b[90m━━━━━━━━━━━━━━━━━━━━━━━━━━━━━━━━━━━━━━━━\u001b[0m \u001b[32m252.4/252.4 kB\u001b[0m \u001b[31m15.6 MB/s\u001b[0m eta \u001b[36m0:00:00\u001b[0m\n",
            "\u001b[?25hCollecting langchain-text-splitters<0.1,>=0.0.1 (from langchain)\n",
            "  Downloading langchain_text_splitters-0.0.1-py3-none-any.whl (21 kB)\n",
            "Collecting langsmith<0.2.0,>=0.1.0 (from langchain)\n",
            "  Downloading langsmith-0.1.13-py3-none-any.whl (64 kB)\n",
            "\u001b[2K     \u001b[90m━━━━━━━━━━━━━━━━━━━━━━━━━━━━━━━━━━━━━━━━\u001b[0m \u001b[32m64.2/64.2 kB\u001b[0m \u001b[31m6.9 MB/s\u001b[0m eta \u001b[36m0:00:00\u001b[0m\n",
            "\u001b[?25hRequirement already satisfied: numpy<2,>=1 in /usr/local/lib/python3.10/dist-packages (from langchain) (1.25.2)\n",
            "Requirement already satisfied: pydantic<3,>=1 in /usr/local/lib/python3.10/dist-packages (from langchain) (2.6.3)\n",
            "Requirement already satisfied: requests<3,>=2 in /usr/local/lib/python3.10/dist-packages (from langchain) (2.31.0)\n",
            "Requirement already satisfied: tenacity<9.0.0,>=8.1.0 in /usr/local/lib/python3.10/dist-packages (from langchain) (8.2.3)\n",
            "Requirement already satisfied: aiosignal>=1.1.2 in /usr/local/lib/python3.10/dist-packages (from aiohttp<4.0.0,>=3.8.3->langchain) (1.3.1)\n",
            "Requirement already satisfied: attrs>=17.3.0 in /usr/local/lib/python3.10/dist-packages (from aiohttp<4.0.0,>=3.8.3->langchain) (23.2.0)\n",
            "Requirement already satisfied: frozenlist>=1.1.1 in /usr/local/lib/python3.10/dist-packages (from aiohttp<4.0.0,>=3.8.3->langchain) (1.4.1)\n",
            "Requirement already satisfied: multidict<7.0,>=4.5 in /usr/local/lib/python3.10/dist-packages (from aiohttp<4.0.0,>=3.8.3->langchain) (6.0.5)\n",
            "Requirement already satisfied: yarl<2.0,>=1.0 in /usr/local/lib/python3.10/dist-packages (from aiohttp<4.0.0,>=3.8.3->langchain) (1.9.4)\n",
            "Collecting marshmallow<4.0.0,>=3.18.0 (from dataclasses-json<0.7,>=0.5.7->langchain)\n",
            "  Downloading marshmallow-3.21.0-py3-none-any.whl (49 kB)\n",
            "\u001b[2K     \u001b[90m━━━━━━━━━━━━━━━━━━━━━━━━━━━━━━━━━━━━━━━━\u001b[0m \u001b[32m49.4/49.4 kB\u001b[0m \u001b[31m5.3 MB/s\u001b[0m eta \u001b[36m0:00:00\u001b[0m\n",
            "\u001b[?25hCollecting typing-inspect<1,>=0.4.0 (from dataclasses-json<0.7,>=0.5.7->langchain)\n",
            "  Downloading typing_inspect-0.9.0-py3-none-any.whl (8.8 kB)\n",
            "Collecting jsonpointer>=1.9 (from jsonpatch<2.0,>=1.33->langchain)\n",
            "  Downloading jsonpointer-2.4-py2.py3-none-any.whl (7.8 kB)\n",
            "Requirement already satisfied: anyio<5,>=3 in /usr/local/lib/python3.10/dist-packages (from langchain-core<0.2,>=0.1.28->langchain) (3.7.1)\n",
            "Requirement already satisfied: packaging<24.0,>=23.2 in /usr/local/lib/python3.10/dist-packages (from langchain-core<0.2,>=0.1.28->langchain) (23.2)\n",
            "Collecting orjson<4.0.0,>=3.9.14 (from langsmith<0.2.0,>=0.1.0->langchain)\n",
            "  Downloading orjson-3.9.15-cp310-cp310-manylinux_2_17_x86_64.manylinux2014_x86_64.whl (138 kB)\n",
            "\u001b[2K     \u001b[90m━━━━━━━━━━━━━━━━━━━━━━━━━━━━━━━━━━━━━━━━\u001b[0m \u001b[32m138.5/138.5 kB\u001b[0m \u001b[31m15.7 MB/s\u001b[0m eta \u001b[36m0:00:00\u001b[0m\n",
            "\u001b[?25hRequirement already satisfied: annotated-types>=0.4.0 in /usr/local/lib/python3.10/dist-packages (from pydantic<3,>=1->langchain) (0.6.0)\n",
            "Requirement already satisfied: pydantic-core==2.16.3 in /usr/local/lib/python3.10/dist-packages (from pydantic<3,>=1->langchain) (2.16.3)\n",
            "Requirement already satisfied: typing-extensions>=4.6.1 in /usr/local/lib/python3.10/dist-packages (from pydantic<3,>=1->langchain) (4.10.0)\n",
            "Requirement already satisfied: charset-normalizer<4,>=2 in /usr/local/lib/python3.10/dist-packages (from requests<3,>=2->langchain) (3.3.2)\n",
            "Requirement already satisfied: idna<4,>=2.5 in /usr/local/lib/python3.10/dist-packages (from requests<3,>=2->langchain) (3.6)\n",
            "Requirement already satisfied: urllib3<3,>=1.21.1 in /usr/local/lib/python3.10/dist-packages (from requests<3,>=2->langchain) (2.0.7)\n",
            "Requirement already satisfied: certifi>=2017.4.17 in /usr/local/lib/python3.10/dist-packages (from requests<3,>=2->langchain) (2024.2.2)\n",
            "Requirement already satisfied: greenlet!=0.4.17 in /usr/local/lib/python3.10/dist-packages (from SQLAlchemy<3,>=1.4->langchain) (3.0.3)\n",
            "Requirement already satisfied: sniffio>=1.1 in /usr/local/lib/python3.10/dist-packages (from anyio<5,>=3->langchain-core<0.2,>=0.1.28->langchain) (1.3.1)\n",
            "Requirement already satisfied: exceptiongroup in /usr/local/lib/python3.10/dist-packages (from anyio<5,>=3->langchain-core<0.2,>=0.1.28->langchain) (1.2.0)\n",
            "Collecting mypy-extensions>=0.3.0 (from typing-inspect<1,>=0.4.0->dataclasses-json<0.7,>=0.5.7->langchain)\n",
            "  Downloading mypy_extensions-1.0.0-py3-none-any.whl (4.7 kB)\n",
            "Installing collected packages: orjson, mypy-extensions, marshmallow, jsonpointer, typing-inspect, jsonpatch, langsmith, dataclasses-json, langchain-core, langchain-text-splitters, langchain-community, langchain\n",
            "Successfully installed dataclasses-json-0.6.4 jsonpatch-1.33 jsonpointer-2.4 langchain-0.1.10 langchain-community-0.0.25 langchain-core-0.1.28 langchain-text-splitters-0.0.1 langsmith-0.1.13 marshmallow-3.21.0 mypy-extensions-1.0.0 orjson-3.9.15 typing-inspect-0.9.0\n",
            "Collecting openai\n",
            "  Downloading openai-1.13.3-py3-none-any.whl (227 kB)\n",
            "\u001b[2K     \u001b[90m━━━━━━━━━━━━━━━━━━━━━━━━━━━━━━━━━━━━━━━━\u001b[0m \u001b[32m227.4/227.4 kB\u001b[0m \u001b[31m4.6 MB/s\u001b[0m eta \u001b[36m0:00:00\u001b[0m\n",
            "\u001b[?25hRequirement already satisfied: anyio<5,>=3.5.0 in /usr/local/lib/python3.10/dist-packages (from openai) (3.7.1)\n",
            "Requirement already satisfied: distro<2,>=1.7.0 in /usr/lib/python3/dist-packages (from openai) (1.7.0)\n",
            "Collecting httpx<1,>=0.23.0 (from openai)\n",
            "  Downloading httpx-0.27.0-py3-none-any.whl (75 kB)\n",
            "\u001b[2K     \u001b[90m━━━━━━━━━━━━━━━━━━━━━━━━━━━━━━━━━━━━━━━━\u001b[0m \u001b[32m75.6/75.6 kB\u001b[0m \u001b[31m8.2 MB/s\u001b[0m eta \u001b[36m0:00:00\u001b[0m\n",
            "\u001b[?25hRequirement already satisfied: pydantic<3,>=1.9.0 in /usr/local/lib/python3.10/dist-packages (from openai) (2.6.3)\n",
            "Requirement already satisfied: sniffio in /usr/local/lib/python3.10/dist-packages (from openai) (1.3.1)\n",
            "Requirement already satisfied: tqdm>4 in /usr/local/lib/python3.10/dist-packages (from openai) (4.66.2)\n",
            "Requirement already satisfied: typing-extensions<5,>=4.7 in /usr/local/lib/python3.10/dist-packages (from openai) (4.10.0)\n",
            "Requirement already satisfied: idna>=2.8 in /usr/local/lib/python3.10/dist-packages (from anyio<5,>=3.5.0->openai) (3.6)\n",
            "Requirement already satisfied: exceptiongroup in /usr/local/lib/python3.10/dist-packages (from anyio<5,>=3.5.0->openai) (1.2.0)\n",
            "Requirement already satisfied: certifi in /usr/local/lib/python3.10/dist-packages (from httpx<1,>=0.23.0->openai) (2024.2.2)\n",
            "Collecting httpcore==1.* (from httpx<1,>=0.23.0->openai)\n",
            "  Downloading httpcore-1.0.4-py3-none-any.whl (77 kB)\n",
            "\u001b[2K     \u001b[90m━━━━━━━━━━━━━━━━━━━━━━━━━━━━━━━━━━━━━━━━\u001b[0m \u001b[32m77.8/77.8 kB\u001b[0m \u001b[31m9.1 MB/s\u001b[0m eta \u001b[36m0:00:00\u001b[0m\n",
            "\u001b[?25hCollecting h11<0.15,>=0.13 (from httpcore==1.*->httpx<1,>=0.23.0->openai)\n",
            "  Downloading h11-0.14.0-py3-none-any.whl (58 kB)\n",
            "\u001b[2K     \u001b[90m━━━━━━━━━━━━━━━━━━━━━━━━━━━━━━━━━━━━━━━━\u001b[0m \u001b[32m58.3/58.3 kB\u001b[0m \u001b[31m5.1 MB/s\u001b[0m eta \u001b[36m0:00:00\u001b[0m\n",
            "\u001b[?25hRequirement already satisfied: annotated-types>=0.4.0 in /usr/local/lib/python3.10/dist-packages (from pydantic<3,>=1.9.0->openai) (0.6.0)\n",
            "Requirement already satisfied: pydantic-core==2.16.3 in /usr/local/lib/python3.10/dist-packages (from pydantic<3,>=1.9.0->openai) (2.16.3)\n",
            "Installing collected packages: h11, httpcore, httpx, openai\n",
            "Successfully installed h11-0.14.0 httpcore-1.0.4 httpx-0.27.0 openai-1.13.3\n",
            "Collecting tiktoken\n",
            "  Downloading tiktoken-0.6.0-cp310-cp310-manylinux_2_17_x86_64.manylinux2014_x86_64.whl (1.8 MB)\n",
            "\u001b[2K     \u001b[90m━━━━━━━━━━━━━━━━━━━━━━━━━━━━━━━━━━━━━━━━\u001b[0m \u001b[32m1.8/1.8 MB\u001b[0m \u001b[31m10.0 MB/s\u001b[0m eta \u001b[36m0:00:00\u001b[0m\n",
            "\u001b[?25hRequirement already satisfied: regex>=2022.1.18 in /usr/local/lib/python3.10/dist-packages (from tiktoken) (2023.12.25)\n",
            "Requirement already satisfied: requests>=2.26.0 in /usr/local/lib/python3.10/dist-packages (from tiktoken) (2.31.0)\n",
            "Requirement already satisfied: charset-normalizer<4,>=2 in /usr/local/lib/python3.10/dist-packages (from requests>=2.26.0->tiktoken) (3.3.2)\n",
            "Requirement already satisfied: idna<4,>=2.5 in /usr/local/lib/python3.10/dist-packages (from requests>=2.26.0->tiktoken) (3.6)\n",
            "Requirement already satisfied: urllib3<3,>=1.21.1 in /usr/local/lib/python3.10/dist-packages (from requests>=2.26.0->tiktoken) (2.0.7)\n",
            "Requirement already satisfied: certifi>=2017.4.17 in /usr/local/lib/python3.10/dist-packages (from requests>=2.26.0->tiktoken) (2024.2.2)\n",
            "Installing collected packages: tiktoken\n",
            "Successfully installed tiktoken-0.6.0\n",
            "Collecting PyPDF2\n",
            "  Downloading pypdf2-3.0.1-py3-none-any.whl (232 kB)\n",
            "\u001b[2K     \u001b[90m━━━━━━━━━━━━━━━━━━━━━━━━━━━━━━━━━━━━━━━━\u001b[0m \u001b[32m232.6/232.6 kB\u001b[0m \u001b[31m4.4 MB/s\u001b[0m eta \u001b[36m0:00:00\u001b[0m\n",
            "\u001b[?25hInstalling collected packages: PyPDF2\n",
            "Successfully installed PyPDF2-3.0.1\n",
            "Collecting pdfminer\n",
            "  Downloading pdfminer-20191125.tar.gz (4.2 MB)\n",
            "\u001b[2K     \u001b[90m━━━━━━━━━━━━━━━━━━━━━━━━━━━━━━━━━━━━━━━━\u001b[0m \u001b[32m4.2/4.2 MB\u001b[0m \u001b[31m13.8 MB/s\u001b[0m eta \u001b[36m0:00:00\u001b[0m\n",
            "\u001b[?25h  Preparing metadata (setup.py) ... \u001b[?25l\u001b[?25hdone\n",
            "Collecting pycryptodome (from pdfminer)\n",
            "  Downloading pycryptodome-3.20.0-cp35-abi3-manylinux_2_17_x86_64.manylinux2014_x86_64.whl (2.1 MB)\n",
            "\u001b[2K     \u001b[90m━━━━━━━━━━━━━━━━━━━━━━━━━━━━━━━━━━━━━━━━\u001b[0m \u001b[32m2.1/2.1 MB\u001b[0m \u001b[31m27.3 MB/s\u001b[0m eta \u001b[36m0:00:00\u001b[0m\n",
            "\u001b[?25hBuilding wheels for collected packages: pdfminer\n",
            "  Building wheel for pdfminer (setup.py) ... \u001b[?25l\u001b[?25hdone\n",
            "  Created wheel for pdfminer: filename=pdfminer-20191125-py3-none-any.whl size=6140071 sha256=0840c50ff2342e1b3f7085a46d6859bada6d23d9969ab1c2e5dc9af1b68baf33\n",
            "  Stored in directory: /root/.cache/pip/wheels/4e/c1/68/f7bd0a8f514661f76b5cbe3b5f76e0033d79f1296012cbbf72\n",
            "Successfully built pdfminer\n",
            "Installing collected packages: pycryptodome, pdfminer\n",
            "Successfully installed pdfminer-20191125 pycryptodome-3.20.0\n"
          ]
        }
      ],
      "source": [
        "!pip install langchain\n",
        "!pip install openai\n",
        "!pip install tiktoken\n",
        "!pip install PyPDF2\n",
        "!pip install pdfminer"
      ]
    },
    {
      "cell_type": "markdown",
      "metadata": {
        "id": "yI1pu7SejPcw"
      },
      "source": [
        "## Import Important Libraries"
      ]
    },
    {
      "cell_type": "code",
      "execution_count": 2,
      "metadata": {
        "id": "QYqQ9ukTiwrQ"
      },
      "outputs": [],
      "source": [
        "import os\n",
        "from langchain.chat_models import ChatOpenAI\n",
        "from langchain.schema import(\n",
        "    AIMessage,\n",
        "    HumanMessage,\n",
        "    SystemMessage\n",
        ")"
      ]
    },
    {
      "cell_type": "markdown",
      "metadata": {
        "id": "bOx5Zg9wjSYk"
      },
      "source": [
        "## Load your OpenAI API KEY"
      ]
    },
    {
      "cell_type": "code",
      "execution_count": 3,
      "metadata": {
        "id": "fEZP9l8YjINn"
      },
      "outputs": [],
      "source": [
        "open_api_key =\"your openai api key\"\n",
        "os.environ[\"OPENAI_API_KEY\"] = open_api_key"
      ]
    },
    {
      "cell_type": "code",
      "execution_count": 4,
      "metadata": {
        "id": "Skz_ujq-j9Qt"
      },
      "outputs": [],
      "source": [
        "text = \"\"\"\n",
        "Should I learn now… or later? Learning is a universal skill/trait that is acquired by any living organism on this planet. Learning is defined by: the acquisition of knowledge or skills through experience, study, or by being taught.Whether that be a plant learning how to respond to light and temperature, a monkey learning how to peel a banana, or us humans learning how to ride a bike. This commonality is what makes us unique and evolve over time.\n",
        "\n",
        "But what if I said, “Machines can learn too”\n",
        "\n",
        "We’re in the age where machines are no different. Machine Learning is still fairly a new concept. We can teach machines how to learn and some machines can even learn on its own. This is magical phenomenon is called Machine Learning.\n",
        "\n",
        "Targeted Audience: Beginners and/or Machine Learning Fresh Bloods\n",
        "\n",
        "Hopefully this article will provide some useful insights and open up your mind to what computers can do now a days. I won’t go in depth about what machine learning is, but rather a high-level overview.\n",
        "\n",
        "If there is anything that you should LEARN from reading this article, it is this:\n",
        "\n",
        "Machines can predict the future, as long as the future doesn’t look too different from the past.\n",
        "\n",
        "\n",
        "Applications of Machine Learning\n",
        "Before we get started, here is a quick overview of what machine learning is capable of:\n",
        "\n",
        "Healthcare: Predicting patient diagnostics for doctors to review\n",
        "Social Network: Predicting certain match preferences on a dating website for better compatibility\n",
        "Finance: Predicting fraudulent activity on a credit card\n",
        "E-commerce: Predicting customer churn\n",
        "Biology: Finding patterns in gene mutations that could represent cancer\n",
        "“Most of the knowledge in the world in the future is going to be extracted by machines and will reside in machines” — Yann LeCun, Director of AI Research, Facebook\n",
        "\n",
        "How Do Machines Learn?\n",
        "To keep things simple, just know that machines “learn” by finding patterns in similar data. Think of data as information you acquire from the world. The more data given to a machine, the “smarter” it gets.\n",
        "\n",
        "\n",
        "But not all data are the same.Imagine you’re a pirate and your life mission was to find the buried treasure somewhere in the island. In order to find the treasure, you’re going to need sufficient amount of information. Like data, this information can either lead you to the right direction or the wrong direction. The better the information/data that is obtained, the more uncertainty is reduced, and vice versa. So it’s important to keep in mind the type of data you’re giving to your machine to learn.\n",
        "\n",
        "“More data beats better models. Better data beats more data.” — Riley Newman\n",
        "\n",
        "Nonethless, after a sufficient amount of data is given, then the machine can make predictions. Machines can predict the future, as long as the future doesn’t look too different from the past.\n",
        "\n",
        "Machine “learns” really by using old data to get information about whats the most likelihood that will happen. If the old data looks a lot like the new data, then the things you can say about the old data will probably be relevant to the new data. It’s like looking back to look forward.\n",
        "\n",
        "Types of Machine Learning\n",
        "Important Definition (Label): In supervised learning, the “answer” or “result” portion of an example. Each example in a labeled data set consists of one or more features and a label. For instance, in a housing data set, the features might include the number of bedrooms, the number of bathrooms, and the age of the house, while the label might be the house’s price. in a spam detection dataset, the features might include the subject line, the sender, and the email message itself, while the label would probably be either “spam” or “not spam.” -source\n",
        "\n",
        "There are three main categories of machine learning:\n",
        "\n",
        "Supervised learning: The machine learns from labeled data. Normally, the data is labeled by humans.\n",
        "Unsupervised learning: The machine learns from un-labeled data. Meaning, there is no “right” answer given to the machine to learn, but the machine must hopefully find patterns from the data to come up with an answer.\n",
        "Reinforcement learning: The machine learns through a reward-based system.\n",
        "\n",
        "Supervised Machine Learning\n",
        "Supervised learning is the most common and studied type of learning because it is easier to train a machine to learn with labeled data than with un-labeled data. Depending on what you want to predict, supervised learning can used to solve two types of problems: regression or classification.\n",
        "\n",
        "Regression Problem:\n",
        "If you want to predict continuous values, such as trying to predict the cost of a house or the weather outside in degrees, you would use regression. This type of problem doesn’t have a specific value constraint because the value could be any number with no limits.\n",
        "\n",
        "Classification Problem:\n",
        "If you’re interested in a problem like: “Am I ugly?” then this is a classification problem because you’re trying to classify the answer into two specific categories: yes or no (in this case the answer is yes to the question above). This is also called a, binary classification problem.\n",
        "\n",
        "Unsupervised Machine Learning\n",
        "\n",
        "Since there is no labeled data for machines to learn from, the goal for unsupervised machine learning is to detect patterns in the data and to group them. Unsupervised learning are machines trying to learn “on their own”, without help. Imagine someone throwing you piles of data and says “Here you go boy, find some patterns and group them out for me. Thanks and have fun.”\n",
        "\n",
        "Depending on what you want to group together, unsupervised learning can group data together by: clustering or association.\n",
        "\n",
        "Clustering Problem:\n",
        "Unsupervised learning tries to solve this problem by looking for similarities in the data. If there is a common cluster or group, the algorithm would then categorize them in a certain form. An example of this could be trying to group customers based on past buying behavior.\n",
        "\n",
        "\n",
        "Association Problem:\n",
        "Unsupervised learning tries to solve this problem by trying to understand the rules and meaning behind different groups. Finding a relationship between customer purchases is a common example of an association problem. Stores may want to know what type of products were purchased together and could possibly use this information to organize the placement of these products for easier access. One store found out that there was a strong association between customers buying beer and diapers. They deduced from this statement that males who had went out to buy diapers for their babies also tend to buy beer as well.\n",
        "\n",
        "Reinforcement Machine Learning\n",
        "This type of machine learning requires the use of a reward/penalty system. The goal is to reward the machine when it learns correctly and to penalize the machine when it learns incorrectly.\n",
        "\n",
        "Reinforcement Machine Learning is a subset of Artificial Intelligence. With the wide range of possible answers from the data, the process of this type of learning is an iterative step. It continuously learns.\n",
        "\n",
        "\n",
        "Examples of Reinforcement Learning:\n",
        "Training a machine to learn how to play (Chess, Go)\n",
        "Training a machine how to learn and play Super Mario by itself\n",
        "Self-driving cars\n",
        "Final Notes\n",
        "This is my first article and I hope you learned something! If there is anything that you guys would like to add to this article, feel free to leave a message and don’t hesitate! Any sort of feedback is truly appreciated. Don’t be afraid to share this! Thanks!\n",
        "\n",
        "Oh yeah, since this article is about learning, here’s a free quote to keep in mind:\n",
        "\n",
        "“Life is like riding a bicycle. To keep your balance you must keep moving.”\n",
        "\n",
        "\"\"\""
      ]
    },
    {
      "cell_type": "code",
      "execution_count": 5,
      "metadata": {
        "colab": {
          "base_uri": "https://localhost:8080/",
          "height": 139
        },
        "id": "aJUSGcCLkcKW",
        "outputId": "fb1c50ee-cae9-41ca-dc56-f8b25e438584"
      },
      "outputs": [
        {
          "output_type": "execute_result",
          "data": {
            "text/plain": [
              "'\\nShould I learn now… or later? Learning is a universal skill/trait that is acquired by any living organism on this planet. Learning is defined by: the acquisition of knowledge or skills through experience, study, or by being taught.Whether that be a plant learning how to respond to light and temperature, a monkey learning how to peel a banana, or us humans learning how to ride a bike. This commonality is what makes us unique and evolve over time.\\n\\nBut what if I said, “Machines can learn too”\\n\\nWe’re in the age where machines are no different. Machine Learning is still fairly a new concept. We can teach machines how to learn and some machines can even learn on its own. This is magical phenomenon is called Machine Learning.\\n\\nTargeted Audience: Beginners and/or Machine Learning Fresh Bloods\\n\\nHopefully this article will provide some useful insights and open up your mind to what computers can do now a days. I won’t go in depth about what machine learning is, but rather a high-level overview.\\n\\nIf there is anything that you should LEARN from reading this article, it is this:\\n\\nMachines can predict the future, as long as the future doesn’t look too different from the past.\\n\\n\\nApplications of Machine Learning\\nBefore we get started, here is a quick overview of what machine learning is capable of:\\n\\nHealthcare: Predicting patient diagnostics for doctors to review\\nSocial Network: Predicting certain match preferences on a dating website for better compatibility\\nFinance: Predicting fraudulent activity on a credit card\\nE-commerce: Predicting customer churn\\nBiology: Finding patterns in gene mutations that could represent cancer\\n“Most of the knowledge in the world in the future is going to be extracted by machines and will reside in machines” — Yann LeCun, Director of AI Research, Facebook\\n\\nHow Do Machines Learn?\\nTo keep things simple, just know that machines “learn” by finding patterns in similar data. Think of data as information you acquire from the world. The more data given to a machine, the “smarter” it gets.\\n\\n\\nBut not all data are the same.Imagine you’re a pirate and your life mission was to find the buried treasure somewhere in the island. In order to find the treasure, you’re going to need sufficient amount of information. Like data, this information can either lead you to the right direction or the wrong direction. The better the information/data that is obtained, the more uncertainty is reduced, and vice versa. So it’s important to keep in mind the type of data you’re giving to your machine to learn.\\n\\n“More data beats better models. Better data beats more data.” — Riley Newman\\n\\nNonethless, after a sufficient amount of data is given, then the machine can make predictions. Machines can predict the future, as long as the future doesn’t look too different from the past.\\n\\nMachine “learns” really by using old data to get information about whats the most likelihood that will happen. If the old data looks a lot like the new data, then the things you can say about the old data will probably be relevant to the new data. It’s like looking back to look forward.\\n\\nTypes of Machine Learning\\nImportant Definition (Label): In supervised learning, the “answer” or “result” portion of an example. Each example in a labeled data set consists of one or more features and a label. For instance, in a housing data set, the features might include the number of bedrooms, the number of bathrooms, and the age of the house, while the label might be the house’s price. in a spam detection dataset, the features might include the subject line, the sender, and the email message itself, while the label would probably be either “spam” or “not spam.” -source\\n\\nThere are three main categories of machine learning:\\n\\nSupervised learning: The machine learns from labeled data. Normally, the data is labeled by humans.\\nUnsupervised learning: The machine learns from un-labeled data. Meaning, there is no “right” answer given to the machine to learn, but the machine must hopefully find patterns from the data to come up with an answer.\\nReinforcement learning: The machine learns through a reward-based system.\\n\\nSupervised Machine Learning\\nSupervised learning is the most common and studied type of learning because it is easier to train a machine to learn with labeled data than with un-labeled data. Depending on what you want to predict, supervised learning can used to solve two types of problems: regression or classification.\\n\\nRegression Problem:\\nIf you want to predict continuous values, such as trying to predict the cost of a house or the weather outside in degrees, you would use regression. This type of problem doesn’t have a specific value constraint because the value could be any number with no limits.\\n\\nClassification Problem:\\nIf you’re interested in a problem like: “Am I ugly?” then this is a classification problem because you’re trying to classify the answer into two specific categories: yes or no (in this case the answer is yes to the question above). This is also called a, binary classification problem.\\n\\nUnsupervised Machine Learning\\n\\nSince there is no labeled data for machines to learn from, the goal for unsupervised machine learning is to detect patterns in the data and to group them. Unsupervised learning are machines trying to learn “on their own”, without help. Imagine someone throwing you piles of data and says “Here you go boy, find some patterns and group them out for me. Thanks and have fun.”\\n\\nDepending on what you want to group together, unsupervised learning can group data together by: clustering or association.\\n\\nClustering Problem:\\nUnsupervised learning tries to solve this problem by looking for similarities in the data. If there is a common cluster or group, the algorithm would then categorize them in a certain form. An example of this could be trying to group customers based on past buying behavior.\\n\\n\\nAssociation Problem:\\nUnsupervised learning tries to solve this problem by trying to understand the rules and meaning behind different groups. Finding a relationship between customer purchases is a common example of an association problem. Stores may want to know what type of products were purchased together and could possibly use this information to organize the placement of these products for easier access. One store found out that there was a strong association between customers buying beer and diapers. They deduced from this statement that males who had went out to buy diapers for their babies also tend to buy beer as well.\\n\\nReinforcement Machine Learning\\nThis type of machine learning requires the use of a reward/penalty system. The goal is to reward the machine when it learns correctly and to penalize the machine when it learns incorrectly.\\n\\nReinforcement Machine Learning is a subset of Artificial Intelligence. With the wide range of possible answers from the data, the process of this type of learning is an iterative step. It continuously learns.\\n\\n\\nExamples of Reinforcement Learning:\\nTraining a machine to learn how to play (Chess, Go)\\nTraining a machine how to learn and play Super Mario by itself\\nSelf-driving cars\\nFinal Notes\\nThis is my first article and I hope you learned something! If there is anything that you guys would like to add to this article, feel free to leave a message and don’t hesitate! Any sort of feedback is truly appreciated. Don’t be afraid to share this! Thanks!\\n\\nOh yeah, since this article is about learning, here’s a free quote to keep in mind:\\n\\n“Life is like riding a bicycle. To keep your balance you must keep moving.”\\n\\n'"
            ],
            "application/vnd.google.colaboratory.intrinsic+json": {
              "type": "string"
            }
          },
          "metadata": {},
          "execution_count": 5
        }
      ],
      "source": [
        "text"
      ]
    },
    {
      "cell_type": "code",
      "execution_count": 6,
      "metadata": {
        "colab": {
          "base_uri": "https://localhost:8080/"
        },
        "id": "hHhowv7Q6QeB",
        "outputId": "8f58b1d6-54e3-420f-9b5d-660119a0ec2d"
      },
      "outputs": [
        {
          "output_type": "stream",
          "name": "stderr",
          "text": [
            "/usr/local/lib/python3.10/dist-packages/langchain_core/_api/deprecation.py:117: LangChainDeprecationWarning: The class `langchain_community.chat_models.openai.ChatOpenAI` was deprecated in langchain-community 0.0.10 and will be removed in 0.2.0. An updated version of the class exists in the langchain-openai package and should be used instead. To use it run `pip install -U langchain-openai` and import as `from langchain_openai import ChatOpenAI`.\n",
            "  warn_deprecated(\n"
          ]
        }
      ],
      "source": [
        "llm = ChatOpenAI(model= \"gpt-3.5-turbo\")\n",
        "chat_messages = [\n",
        "    SystemMessage(content=\"your are an expert assistant with expertize in summarizing text.\"),\n",
        "    HumanMessage(content= f\"please provide a short and concise sumamry of the following text: \\n Text: {text}\")\n",
        "]"
      ]
    },
    {
      "cell_type": "code",
      "execution_count": 7,
      "metadata": {
        "colab": {
          "base_uri": "https://localhost:8080/"
        },
        "id": "Pqtwvg5ClZO4",
        "outputId": "dbf469eb-d656-4c34-b77a-a0afc5dfc0b4"
      },
      "outputs": [
        {
          "output_type": "execute_result",
          "data": {
            "text/plain": [
              "1524"
            ]
          },
          "metadata": {},
          "execution_count": 7
        }
      ],
      "source": [
        "llm.get_num_tokens(text)"
      ]
    },
    {
      "cell_type": "code",
      "execution_count": 8,
      "metadata": {
        "colab": {
          "base_uri": "https://localhost:8080/",
          "height": 124
        },
        "id": "v3Q0tYVAlmFN",
        "outputId": "0782c8b5-7f09-4dcf-ba8b-08a20f4245ad"
      },
      "outputs": [
        {
          "output_type": "stream",
          "name": "stderr",
          "text": [
            "/usr/local/lib/python3.10/dist-packages/langchain_core/_api/deprecation.py:117: LangChainDeprecationWarning: The function `__call__` was deprecated in LangChain 0.1.7 and will be removed in 0.2.0. Use invoke instead.\n",
            "  warn_deprecated(\n"
          ]
        },
        {
          "output_type": "execute_result",
          "data": {
            "text/plain": [
              "'The text discusses the concept of learning, including how both living organisms and machines can learn. It introduces machine learning as a way for machines to acquire knowledge and make predictions based on data. The text also explains the applications and types of machine learning, such as supervised, unsupervised, and reinforcement learning. Additionally, it provides examples of how machine learning is used in various fields.'"
            ],
            "application/vnd.google.colaboratory.intrinsic+json": {
              "type": "string"
            }
          },
          "metadata": {},
          "execution_count": 8
        }
      ],
      "source": [
        "llm(chat_messages).content"
      ]
    },
    {
      "cell_type": "markdown",
      "metadata": {
        "id": "6nPDgq5PmnzU"
      },
      "source": [
        "# Using Prompt Teampltes to do the Text Summarization"
      ]
    },
    {
      "cell_type": "code",
      "execution_count": 9,
      "metadata": {
        "id": "QC92e3md6QeC"
      },
      "outputs": [],
      "source": [
        "from langchain.chains import LLMChain\n",
        "from langchain import PromptTemplate"
      ]
    },
    {
      "cell_type": "code",
      "execution_count": 10,
      "metadata": {
        "id": "I4gtvZaym251"
      },
      "outputs": [],
      "source": [
        "prompt_template = \"\"\"\n",
        "Write a summary of the following text:\n",
        "Text: '{text}'\n",
        "\"\"\"\n",
        "\n",
        "prompt = PromptTemplate(\n",
        "    input_variables = [\"text\"],\n",
        "    template = prompt_template\n",
        ")"
      ]
    },
    {
      "cell_type": "code",
      "execution_count": 11,
      "metadata": {
        "id": "xdl872B-nOij"
      },
      "outputs": [],
      "source": [
        "complete_prompt = prompt.format(text = text)"
      ]
    },
    {
      "cell_type": "code",
      "execution_count": 12,
      "metadata": {
        "colab": {
          "base_uri": "https://localhost:8080/"
        },
        "id": "UGjkdTpL6QeD",
        "outputId": "399a5ba8-6fff-4d73-c774-338fc2c88422"
      },
      "outputs": [
        {
          "output_type": "execute_result",
          "data": {
            "text/plain": [
              "1536"
            ]
          },
          "metadata": {},
          "execution_count": 12
        }
      ],
      "source": [
        "llm.get_num_tokens(complete_prompt)"
      ]
    },
    {
      "cell_type": "code",
      "execution_count": 13,
      "metadata": {
        "colab": {
          "base_uri": "https://localhost:8080/"
        },
        "id": "wMLcNH9MnZac",
        "outputId": "46f84b5b-85fc-4f5f-f659-814edc48adcc"
      },
      "outputs": [
        {
          "output_type": "execute_result",
          "data": {
            "text/plain": [
              "1536"
            ]
          },
          "metadata": {},
          "execution_count": 13
        }
      ],
      "source": [
        "llm.get_num_tokens(complete_prompt)"
      ]
    },
    {
      "cell_type": "code",
      "execution_count": 14,
      "metadata": {
        "id": "EyK3U_UE6QeE"
      },
      "outputs": [],
      "source": [
        "llm_chain = LLMChain(llm= llm, prompt= prompt)"
      ]
    },
    {
      "cell_type": "code",
      "execution_count": 15,
      "metadata": {
        "colab": {
          "base_uri": "https://localhost:8080/"
        },
        "id": "bKowx1km6QeE",
        "outputId": "89ea5ecb-c8e4-4111-8d07-1967bc6b0f16"
      },
      "outputs": [
        {
          "output_type": "stream",
          "name": "stderr",
          "text": [
            "/usr/local/lib/python3.10/dist-packages/langchain_core/_api/deprecation.py:117: LangChainDeprecationWarning: The function `run` was deprecated in LangChain 0.1.0 and will be removed in 0.2.0. Use invoke instead.\n",
            "  warn_deprecated(\n"
          ]
        }
      ],
      "source": [
        "summary = llm_chain.run({\"text\": text})"
      ]
    },
    {
      "cell_type": "code",
      "execution_count": 16,
      "metadata": {
        "colab": {
          "base_uri": "https://localhost:8080/",
          "height": 104
        },
        "id": "aZGS4F_6nt8j",
        "outputId": "f73a1a6c-02c5-4688-91db-ec4f9e2baad3"
      },
      "outputs": [
        {
          "output_type": "execute_result",
          "data": {
            "text/plain": [
              "'The text discusses the importance of learning, both for living organisms and machines, particularly focusing on the concept of Machine Learning. It explains how machines can learn from data to make predictions and provides examples of applications of Machine Learning in various industries. The text also introduces the different types of Machine Learning, including supervised, unsupervised, and reinforcement learning, and explains how each type works. Additionally, it provides examples of problems that can be solved using each type of Machine Learning. The text concludes with a call for feedback and a quote about the importance of continuous learning.'"
            ],
            "application/vnd.google.colaboratory.intrinsic+json": {
              "type": "string"
            }
          },
          "metadata": {},
          "execution_count": 16
        }
      ],
      "source": [
        "summary"
      ]
    },
    {
      "cell_type": "markdown",
      "metadata": {
        "id": "h5QGFCpqoFQn"
      },
      "source": [
        "### Transalte English Text into Hindi"
      ]
    },
    {
      "cell_type": "code",
      "execution_count": 17,
      "metadata": {
        "id": "OLNIU7_D6QeE"
      },
      "outputs": [],
      "source": [
        "prompt_template  = \"\"\"\n",
        "Write a sumammary of the following text:\n",
        "Text: '{text}'\n",
        "Transalate the precise Summary of the {language}\n",
        "\n",
        "\"\"\"\n",
        "prompt = PromptTemplate(\n",
        "    input_variables = [\"text\", \"language\"],\n",
        "    template = prompt_template\n",
        ")"
      ]
    },
    {
      "cell_type": "code",
      "execution_count": 18,
      "metadata": {
        "colab": {
          "base_uri": "https://localhost:8080/",
          "height": 139
        },
        "id": "8_PONQ4a6QeE",
        "outputId": "fe731879-1e5d-4c85-a887-c414fbaff379"
      },
      "outputs": [
        {
          "output_type": "execute_result",
          "data": {
            "text/plain": [
              "\"\\nWrite a sumammary of the following text:\\nText: '\\nShould I learn now… or later? Learning is a universal skill/trait that is acquired by any living organism on this planet. Learning is defined by: the acquisition of knowledge or skills through experience, study, or by being taught.Whether that be a plant learning how to respond to light and temperature, a monkey learning how to peel a banana, or us humans learning how to ride a bike. This commonality is what makes us unique and evolve over time.\\n\\nBut what if I said, “Machines can learn too”\\n\\nWe’re in the age where machines are no different. Machine Learning is still fairly a new concept. We can teach machines how to learn and some machines can even learn on its own. This is magical phenomenon is called Machine Learning.\\n\\nTargeted Audience: Beginners and/or Machine Learning Fresh Bloods\\n\\nHopefully this article will provide some useful insights and open up your mind to what computers can do now a days. I won’t go in depth about what machine learning is, but rather a high-level overview.\\n\\nIf there is anything that you should LEARN from reading this article, it is this:\\n\\nMachines can predict the future, as long as the future doesn’t look too different from the past.\\n\\n\\nApplications of Machine Learning\\nBefore we get started, here is a quick overview of what machine learning is capable of:\\n\\nHealthcare: Predicting patient diagnostics for doctors to review\\nSocial Network: Predicting certain match preferences on a dating website for better compatibility\\nFinance: Predicting fraudulent activity on a credit card\\nE-commerce: Predicting customer churn\\nBiology: Finding patterns in gene mutations that could represent cancer\\n“Most of the knowledge in the world in the future is going to be extracted by machines and will reside in machines” — Yann LeCun, Director of AI Research, Facebook\\n\\nHow Do Machines Learn?\\nTo keep things simple, just know that machines “learn” by finding patterns in similar data. Think of data as information you acquire from the world. The more data given to a machine, the “smarter” it gets.\\n\\n\\nBut not all data are the same.Imagine you’re a pirate and your life mission was to find the buried treasure somewhere in the island. In order to find the treasure, you’re going to need sufficient amount of information. Like data, this information can either lead you to the right direction or the wrong direction. The better the information/data that is obtained, the more uncertainty is reduced, and vice versa. So it’s important to keep in mind the type of data you’re giving to your machine to learn.\\n\\n“More data beats better models. Better data beats more data.” — Riley Newman\\n\\nNonethless, after a sufficient amount of data is given, then the machine can make predictions. Machines can predict the future, as long as the future doesn’t look too different from the past.\\n\\nMachine “learns” really by using old data to get information about whats the most likelihood that will happen. If the old data looks a lot like the new data, then the things you can say about the old data will probably be relevant to the new data. It’s like looking back to look forward.\\n\\nTypes of Machine Learning\\nImportant Definition (Label): In supervised learning, the “answer” or “result” portion of an example. Each example in a labeled data set consists of one or more features and a label. For instance, in a housing data set, the features might include the number of bedrooms, the number of bathrooms, and the age of the house, while the label might be the house’s price. in a spam detection dataset, the features might include the subject line, the sender, and the email message itself, while the label would probably be either “spam” or “not spam.” -source\\n\\nThere are three main categories of machine learning:\\n\\nSupervised learning: The machine learns from labeled data. Normally, the data is labeled by humans.\\nUnsupervised learning: The machine learns from un-labeled data. Meaning, there is no “right” answer given to the machine to learn, but the machine must hopefully find patterns from the data to come up with an answer.\\nReinforcement learning: The machine learns through a reward-based system.\\n\\nSupervised Machine Learning\\nSupervised learning is the most common and studied type of learning because it is easier to train a machine to learn with labeled data than with un-labeled data. Depending on what you want to predict, supervised learning can used to solve two types of problems: regression or classification.\\n\\nRegression Problem:\\nIf you want to predict continuous values, such as trying to predict the cost of a house or the weather outside in degrees, you would use regression. This type of problem doesn’t have a specific value constraint because the value could be any number with no limits.\\n\\nClassification Problem:\\nIf you’re interested in a problem like: “Am I ugly?” then this is a classification problem because you’re trying to classify the answer into two specific categories: yes or no (in this case the answer is yes to the question above). This is also called a, binary classification problem.\\n\\nUnsupervised Machine Learning\\n\\nSince there is no labeled data for machines to learn from, the goal for unsupervised machine learning is to detect patterns in the data and to group them. Unsupervised learning are machines trying to learn “on their own”, without help. Imagine someone throwing you piles of data and says “Here you go boy, find some patterns and group them out for me. Thanks and have fun.”\\n\\nDepending on what you want to group together, unsupervised learning can group data together by: clustering or association.\\n\\nClustering Problem:\\nUnsupervised learning tries to solve this problem by looking for similarities in the data. If there is a common cluster or group, the algorithm would then categorize them in a certain form. An example of this could be trying to group customers based on past buying behavior.\\n\\n\\nAssociation Problem:\\nUnsupervised learning tries to solve this problem by trying to understand the rules and meaning behind different groups. Finding a relationship between customer purchases is a common example of an association problem. Stores may want to know what type of products were purchased together and could possibly use this information to organize the placement of these products for easier access. One store found out that there was a strong association between customers buying beer and diapers. They deduced from this statement that males who had went out to buy diapers for their babies also tend to buy beer as well.\\n\\nReinforcement Machine Learning\\nThis type of machine learning requires the use of a reward/penalty system. The goal is to reward the machine when it learns correctly and to penalize the machine when it learns incorrectly.\\n\\nReinforcement Machine Learning is a subset of Artificial Intelligence. With the wide range of possible answers from the data, the process of this type of learning is an iterative step. It continuously learns.\\n\\n\\nExamples of Reinforcement Learning:\\nTraining a machine to learn how to play (Chess, Go)\\nTraining a machine how to learn and play Super Mario by itself\\nSelf-driving cars\\nFinal Notes\\nThis is my first article and I hope you learned something! If there is anything that you guys would like to add to this article, feel free to leave a message and don’t hesitate! Any sort of feedback is truly appreciated. Don’t be afraid to share this! Thanks!\\n\\nOh yeah, since this article is about learning, here’s a free quote to keep in mind:\\n\\n“Life is like riding a bicycle. To keep your balance you must keep moving.”\\n\\n'\\nTransalate the precise Summary of the Hindi\\n\\n\""
            ],
            "application/vnd.google.colaboratory.intrinsic+json": {
              "type": "string"
            }
          },
          "metadata": {},
          "execution_count": 18
        }
      ],
      "source": [
        "prompt.format(text = text, language = \"Hindi\")"
      ]
    },
    {
      "cell_type": "code",
      "execution_count": 19,
      "metadata": {
        "id": "ihPdWO-F6QeF"
      },
      "outputs": [],
      "source": [
        "llm_chain = LLMChain(llm = llm, prompt = prompt)"
      ]
    },
    {
      "cell_type": "code",
      "execution_count": 20,
      "metadata": {
        "id": "xLpur7HP6QeF"
      },
      "outputs": [],
      "source": [
        "hindi_summary_transalation = llm_chain.run({'text': text, 'language': 'Hindi'})"
      ]
    },
    {
      "cell_type": "code",
      "execution_count": 21,
      "metadata": {
        "colab": {
          "base_uri": "https://localhost:8080/",
          "height": 70
        },
        "id": "BlMas-yA6QeF",
        "outputId": "9a35297d-f992-4f53-e3bb-e1026e91872a"
      },
      "outputs": [
        {
          "output_type": "execute_result",
          "data": {
            "text/plain": [
              "'इस लेख में मशीन सीख सकती हैं यह बताया गया है। मशीन लर्निंग एक नया और रोचक अवधारणा है जिसमें मशीनों को सिखाया जा सकता है कि कैसे सीखना है। इसके अलावा, मशीनों को उसमें सीखने के लिए पुराने डेटा का उपयोग करके भविष्य की पूर्वानुमानित करने की क्षमता होती है। सुपरवाइज्ड लर्निंग, अनुपेक्षित लर्निंग और रिइनफोर्समेंट लर्निंग जैसे विभिन्न प्रकारों की चर्चा की गई है। इस लेख में मशीन सीखने के उपयोग, प्रकार और उदाहरणों के बारे में विस्तृत जानकारी दी गई है।'"
            ],
            "application/vnd.google.colaboratory.intrinsic+json": {
              "type": "string"
            }
          },
          "metadata": {},
          "execution_count": 21
        }
      ],
      "source": [
        "hindi_summary_transalation"
      ]
    },
    {
      "cell_type": "markdown",
      "metadata": {
        "id": "H8O87XvApmCi"
      },
      "source": [
        "# Transaltion into a French"
      ]
    },
    {
      "cell_type": "code",
      "execution_count": 22,
      "metadata": {
        "colab": {
          "base_uri": "https://localhost:8080/",
          "height": 122
        },
        "id": "o2k8qIB_pcX8",
        "outputId": "bbc720db-c497-4916-c5f3-d49fa1ce70c2"
      },
      "outputs": [
        {
          "output_type": "execute_result",
          "data": {
            "text/plain": [
              "\"Le texte parle de l'apprentissage, en mettant en avant le fait que les machines peuvent également apprendre grâce à l'apprentissage automatique. Il explique les différentes applications de l'apprentissage automatique dans des domaines tels que la santé, les réseaux sociaux, la finance, le commerce électronique et la biologie. Le texte décrit également les différents types d'apprentissage automatique, notamment l'apprentissage supervisé, non supervisé et par renforcement. Il souligne l'importance des données dans l'apprentissage des machines et explique comment celles-ci peuvent prédire l'avenir en se basant sur des modèles passés. Enfin, le texte termine en donnant des exemples d'apprentissage par renforcement, comme l'entraînement de machines à jouer aux échecs ou à conduire des voitures autonomes.\""
            ],
            "application/vnd.google.colaboratory.intrinsic+json": {
              "type": "string"
            }
          },
          "metadata": {},
          "execution_count": 22
        }
      ],
      "source": [
        "complete_prompt = prompt.format(text = text, language = \"French\")\n",
        "llm_chain = LLMChain(llm = llm, prompt = prompt)\n",
        "summary_traslation = llm_chain.run({\"text\": text, \"language\": \"French\"})\n",
        "summary_traslation"
      ]
    },
    {
      "cell_type": "code",
      "execution_count": 23,
      "metadata": {
        "colab": {
          "base_uri": "https://localhost:8080/",
          "height": 139
        },
        "id": "3FCnhStopimi",
        "outputId": "3cdc190a-67c9-40c7-bdfb-7b44e6cbcb60"
      },
      "outputs": [
        {
          "output_type": "execute_result",
          "data": {
            "text/plain": [
              "'\\nShould I learn now… or later? Learning is a universal skill/trait that is acquired by any living organism on this planet. Learning is defined by: the acquisition of knowledge or skills through experience, study, or by being taught.Whether that be a plant learning how to respond to light and temperature, a monkey learning how to peel a banana, or us humans learning how to ride a bike. This commonality is what makes us unique and evolve over time.\\n\\nBut what if I said, “Machines can learn too”\\n\\nWe’re in the age where machines are no different. Machine Learning is still fairly a new concept. We can teach machines how to learn and some machines can even learn on its own. This is magical phenomenon is called Machine Learning.\\n\\nTargeted Audience: Beginners and/or Machine Learning Fresh Bloods\\n\\nHopefully this article will provide some useful insights and open up your mind to what computers can do now a days. I won’t go in depth about what machine learning is, but rather a high-level overview.\\n\\nIf there is anything that you should LEARN from reading this article, it is this:\\n\\nMachines can predict the future, as long as the future doesn’t look too different from the past.\\n\\n\\nApplications of Machine Learning\\nBefore we get started, here is a quick overview of what machine learning is capable of:\\n\\nHealthcare: Predicting patient diagnostics for doctors to review\\nSocial Network: Predicting certain match preferences on a dating website for better compatibility\\nFinance: Predicting fraudulent activity on a credit card\\nE-commerce: Predicting customer churn\\nBiology: Finding patterns in gene mutations that could represent cancer\\n“Most of the knowledge in the world in the future is going to be extracted by machines and will reside in machines” — Yann LeCun, Director of AI Research, Facebook\\n\\nHow Do Machines Learn?\\nTo keep things simple, just know that machines “learn” by finding patterns in similar data. Think of data as information you acquire from the world. The more data given to a machine, the “smarter” it gets.\\n\\n\\nBut not all data are the same.Imagine you’re a pirate and your life mission was to find the buried treasure somewhere in the island. In order to find the treasure, you’re going to need sufficient amount of information. Like data, this information can either lead you to the right direction or the wrong direction. The better the information/data that is obtained, the more uncertainty is reduced, and vice versa. So it’s important to keep in mind the type of data you’re giving to your machine to learn.\\n\\n“More data beats better models. Better data beats more data.” — Riley Newman\\n\\nNonethless, after a sufficient amount of data is given, then the machine can make predictions. Machines can predict the future, as long as the future doesn’t look too different from the past.\\n\\nMachine “learns” really by using old data to get information about whats the most likelihood that will happen. If the old data looks a lot like the new data, then the things you can say about the old data will probably be relevant to the new data. It’s like looking back to look forward.\\n\\nTypes of Machine Learning\\nImportant Definition (Label): In supervised learning, the “answer” or “result” portion of an example. Each example in a labeled data set consists of one or more features and a label. For instance, in a housing data set, the features might include the number of bedrooms, the number of bathrooms, and the age of the house, while the label might be the house’s price. in a spam detection dataset, the features might include the subject line, the sender, and the email message itself, while the label would probably be either “spam” or “not spam.” -source\\n\\nThere are three main categories of machine learning:\\n\\nSupervised learning: The machine learns from labeled data. Normally, the data is labeled by humans.\\nUnsupervised learning: The machine learns from un-labeled data. Meaning, there is no “right” answer given to the machine to learn, but the machine must hopefully find patterns from the data to come up with an answer.\\nReinforcement learning: The machine learns through a reward-based system.\\n\\nSupervised Machine Learning\\nSupervised learning is the most common and studied type of learning because it is easier to train a machine to learn with labeled data than with un-labeled data. Depending on what you want to predict, supervised learning can used to solve two types of problems: regression or classification.\\n\\nRegression Problem:\\nIf you want to predict continuous values, such as trying to predict the cost of a house or the weather outside in degrees, you would use regression. This type of problem doesn’t have a specific value constraint because the value could be any number with no limits.\\n\\nClassification Problem:\\nIf you’re interested in a problem like: “Am I ugly?” then this is a classification problem because you’re trying to classify the answer into two specific categories: yes or no (in this case the answer is yes to the question above). This is also called a, binary classification problem.\\n\\nUnsupervised Machine Learning\\n\\nSince there is no labeled data for machines to learn from, the goal for unsupervised machine learning is to detect patterns in the data and to group them. Unsupervised learning are machines trying to learn “on their own”, without help. Imagine someone throwing you piles of data and says “Here you go boy, find some patterns and group them out for me. Thanks and have fun.”\\n\\nDepending on what you want to group together, unsupervised learning can group data together by: clustering or association.\\n\\nClustering Problem:\\nUnsupervised learning tries to solve this problem by looking for similarities in the data. If there is a common cluster or group, the algorithm would then categorize them in a certain form. An example of this could be trying to group customers based on past buying behavior.\\n\\n\\nAssociation Problem:\\nUnsupervised learning tries to solve this problem by trying to understand the rules and meaning behind different groups. Finding a relationship between customer purchases is a common example of an association problem. Stores may want to know what type of products were purchased together and could possibly use this information to organize the placement of these products for easier access. One store found out that there was a strong association between customers buying beer and diapers. They deduced from this statement that males who had went out to buy diapers for their babies also tend to buy beer as well.\\n\\nReinforcement Machine Learning\\nThis type of machine learning requires the use of a reward/penalty system. The goal is to reward the machine when it learns correctly and to penalize the machine when it learns incorrectly.\\n\\nReinforcement Machine Learning is a subset of Artificial Intelligence. With the wide range of possible answers from the data, the process of this type of learning is an iterative step. It continuously learns.\\n\\n\\nExamples of Reinforcement Learning:\\nTraining a machine to learn how to play (Chess, Go)\\nTraining a machine how to learn and play Super Mario by itself\\nSelf-driving cars\\nFinal Notes\\nThis is my first article and I hope you learned something! If there is anything that you guys would like to add to this article, feel free to leave a message and don’t hesitate! Any sort of feedback is truly appreciated. Don’t be afraid to share this! Thanks!\\n\\nOh yeah, since this article is about learning, here’s a free quote to keep in mind:\\n\\n“Life is like riding a bicycle. To keep your balance you must keep moving.”\\n\\n'"
            ],
            "application/vnd.google.colaboratory.intrinsic+json": {
              "type": "string"
            }
          },
          "metadata": {},
          "execution_count": 23
        }
      ],
      "source": [
        "text"
      ]
    },
    {
      "cell_type": "code",
      "execution_count": 24,
      "metadata": {
        "colab": {
          "base_uri": "https://localhost:8080/",
          "height": 70
        },
        "id": "UXZrAOwbppQ6",
        "outputId": "c1da3c72-dac1-44d5-a4d8-d40177ca6050"
      },
      "outputs": [
        {
          "output_type": "execute_result",
          "data": {
            "text/plain": [
              "'这篇文章讨论了学习的重要性，包括人类和机器学习的相关内容。文章指出，机器学习是一种新概念，可以教会机器如何学习，甚至有些机器可以自己学习。文章提到了机器学习的应用领域，如医疗、社交网络、金融、电子商务和生物学。此外，文章还介绍了机器学习的类型，包括监督学习、无监督学习和强化学习。最后，文章强调了学习的重要性，并提供了一些学习的名言。'"
            ],
            "application/vnd.google.colaboratory.intrinsic+json": {
              "type": "string"
            }
          },
          "metadata": {},
          "execution_count": 24
        }
      ],
      "source": [
        "complete_prompt = prompt.format(text = text, language = \"Chinese\")\n",
        "llm_chain = LLMChain(llm = llm, prompt = prompt)\n",
        "summary_traslation = llm_chain.run({\"text\": text, \"language\": \"Chinese\"})\n",
        "summary_traslation"
      ]
    },
    {
      "cell_type": "markdown",
      "metadata": {
        "id": "NFeUBBJxqMos"
      },
      "source": [
        "### Stuff-DocumentChain Text Summarization"
      ]
    },
    {
      "cell_type": "code",
      "execution_count": 25,
      "metadata": {
        "id": "Ll4fHTtl6QeI"
      },
      "outputs": [],
      "source": [
        "import os\n",
        "import sys"
      ]
    },
    {
      "cell_type": "code",
      "execution_count": 26,
      "metadata": {
        "id": "kMufRsxOp16Z"
      },
      "outputs": [],
      "source": [
        "from PyPDF2 import PdfReader"
      ]
    },
    {
      "cell_type": "code",
      "execution_count": 27,
      "metadata": {
        "id": "CGGrgBVvrU56"
      },
      "outputs": [],
      "source": [
        "pdfreader = PdfReader(\"/content/LangChain.pdf\")"
      ]
    },
    {
      "cell_type": "code",
      "source": [
        "from typing_extensions import Concatenate"
      ],
      "metadata": {
        "id": "quFzOz4Q9IZm"
      },
      "execution_count": 28,
      "outputs": []
    },
    {
      "cell_type": "code",
      "execution_count": 29,
      "metadata": {
        "id": "Y1md24Nvqa9I"
      },
      "outputs": [],
      "source": [
        "\n",
        "\n",
        "# Read text form pdf\n",
        "text = ''\n",
        "for i, page in enumerate(pdfreader.pages):\n",
        "  content = page.extract_text()\n",
        "  if content:\n",
        "    text+= content\n"
      ]
    },
    {
      "cell_type": "code",
      "execution_count": 30,
      "metadata": {
        "colab": {
          "base_uri": "https://localhost:8080/",
          "height": 139
        },
        "id": "8yPMFy-9rjTp",
        "outputId": "7c92d360-36b5-46cc-cefe-974b5aa2056b"
      },
      "outputs": [
        {
          "output_type": "execute_result",
          "data": {
            "text/plain": [
              "'LangChain  is a framework  designed to simplify the creation of  applications  using  large language \\nmodels  (LLMs). As a language model integration framework, LangChain\\'s use -cases largely overlap \\nwith those of language models in general, including document analysis \\nand summarization , chatbots , and  code analysis .[2] \\nHistory [edit] \\nLangChain was launched in October 2022 as an  open source  project by Harrison Chase, while \\nworking at machine learning startup Robust Intelligence. The project quickly garnered \\npopularity,[3] with improvements from hundreds of con tributors on  GitHub , trending discussions \\non Twitter , lively activity on the project\\'s  Discord  server, many  YouTube  tutorials, and meetups in \\nSan Francisco and London. In April 2023, LangChain had incorporated and the new startup raised \\nover $20 million in funding at a valuation of at least $200 million from venture firm  Sequoia Capital , a \\nweek after announcing a $10 million seed investment from  Benchmark .[4][5] \\nIn October 2023 LangChain introduced LangServe, a deployment tool designed to facilitate the \\ntransition from LCEL (LangChain Expression Language) prototypes to production -ready \\napplications.[6] \\nCapabilities [edit] \\nLangChain\\'s developers highl ight the framework\\'s applicability to use -cases \\nincluding  chatbots ,[7] retrieval -augmented generation ,[8] document  summarization ,[9] and synthetic \\ndata generation.[10] \\nAs of March 2023, LangChain included integrations with systems including Amazon, Google, and \\nMicrosoft Azure  cloud storage ; API wrappers  for news, movie information, and weather;  Bash  for \\nsummarization, syntax and semantics checking, and execution of  shell scripts ; multiple  web \\nscraping  subsystems and templates;  few-shot learning  prompt generation support; finding and \\nsummarizing \"todo\" tasks in code;  Google Drive  documents, spreadshee ts, and presentations \\nsummarization, extraction, and creation;  Google Search  and Microsoft Bing  web search; OpenAI, \\nAnthropic, and Hugging Face language models;  iFixit repair guides and wikis search and \\nsummarization;  MapReduce  for question answering, combining documents, and question \\ngeneration;  N-gram  overlap scoring; PyPDF, pdfminer, fitz, and pymupdf for  PDF file  text extraction \\nand manipulation; Python and JavaScript code generation, analysis, and debugging; Milvus vector \\ndatabase[11] to store and retrieve vecto r embeddings; Weaviate vector database[12] to cache \\nembedding and data objects;  Redis  cache database storage; Python Re questsWrapper and other \\nmethods for API requests;  SQL and NoSQL  databases including  JSON  support; Streamlit, including \\nfor logging; text mapping for  k-nearest neighbors  search;  time zone  conversion and calendar \\noperations; tracing and recording stack symbols in  threaded  and asynchronous subprocess  runs; \\nand the  Wolfram Alpha  website and SDK.[13] As of April 2023, it can read from more than 50 \\ndocument types and data sources.[14] \\n \\n \\n \\n \\n \\n \\n \\n \\n \\n \\n \\n From Wikipedia, the free encyclopedia  \\nMadhuri Dixit Nene  \\n \\nDixit in 2022  \\nBorn  Madhuri Dixit  \\n \\n15 May 1967  (age 56) \\nBombay , Maharashtra , India  \\nOccupations  \\uf0b7 Actress  \\n\\uf0b7 television personality  \\nYears  active  1984–present  \\nWorks  Full list  \\nSpouse  Shriram Madhav Nene  \\n  \\n \\n(m. 1999)  \\nChildren  2 \\nAwards  Full list  \\nHonours  Padma Shri  (2008)  \\nWebsite  madhuridixit -nene.com  \\nMadhuri Dixit Nene  (née Dixit , pronounced  [d̪iːkʂɪt̪]; born 15 May 1967) is an Indian actress who \\nprimarily works in  Hindi films . A lead ing actress of  Indian cinema , she has appeared in  over \\n70 films.[1][2] Noted by critics for her beauty, dancing skills, and characters, Dixit was credite d for \\nsingularly paralleling her male contemporaries and leading  star vehicles  in a male -dominated \\nindustry.[3] \\nShe was among the country\\'s highest -paid celebrities throughout the 1990s and early 2000s, and \\nhas featured in  Forbes India \\'s Celebrity 100  list since its inception in 2012.[4][5] Her accolades  include \\nsix Filmfare Awards  from a record 17 nominations. In 2008, the  Gove rnment of India  awarded her \\nwith Padma Shri , the fourth -highest civilian honour of the country. In 2023, she was awarded \\nthe Special Recognition for Contribution to Bharatiya Cinema Award  at the  54th IFFI .[6] \\nBorn and raised in  Mumbai , Dixit made her acting debut in 1984 w ith a leading role in the \\ndrama  Abodh . After a few successive commercially failed films, she rose to prominence with the \\naction drama  Tezaab  (1988), and established herself with starring roles in the top -grossing romantic \\ndramas  Dil (1990),  Beta (1992),  Hum Aapke Hain Koun..!  (1994), and  Dil To Pagal Hai  (1997). She \\nwon four  Filmfare Awards for Best Actress  for her performances in them. Her other commercially \\nsuccessful films during this period  include  Ram \\nLakhan  (1989),  Tridev  (1989),  Thanedaar  (1990),  Kishen \\nKanhaiya  (1990),  Saajan  (1991),  Khalnayak  (1993), and  Raja (1995).  \\nApart from Dixit\\'s mainstream success, she earned  appreciation from critics for her performances \\nin Prem Pratigyaa  (1989),  Parinda  (1989),  Anjaam  (1994),  Mrityudand  (1997),  Pukar  (2000), \\nand Lajja  (2001). She received the  Filmfare Award for Best Supporting Actress  for \\nplaying  Chandramukhi  in Devdas  (2002). Following a hiatus, Dixit made a brief comeback by starring \\nin the musical  Aaja Nachle  (2007), and acted intermittently over the next  decades. Her highest -\\ngrossing release came with the adventure comedy  Total Dhamaal  (2019), and she continued to gain \\npraise for starring in the black comedy  Dedh Ishqiya  (2014) and the  Netflix  drama series  The Fame \\nGame  (2022). During this period, she primarily featured as a talent judge for dance reality shows, \\nsuch as  Jhalak Dikhhla Jaa . \\nIn addition to acting in films, she has been engaged in philanthropic activities. She has worked \\nwith UNICEF  since 2014 to advocate the  rights of children  and prevent  child labour , participates in \\nconcert tours and stage shows, and is the co -founder of the production company RnM Moving \\nPictur es. Since 1999, she has been married to Shriram Nene, with whom she has two sons Arin and \\nRyan.  \\nEarly life and background  \\nMadhuri Dixit was born on 15 May 1967 into a  Marathi[7] Kokanastha Brahmin[8] family \\nin Bombay  (present -day Mumbai ) to Shankar and Snehlata Dixit. She has two elder sisters and an \\nelder brother.[9][10][11][12] She kindled an interest in dance at an early age of three, and went on to train \\nin Kathak  for eight years; later on becoming a profession ally trained  Kathak  dancer.[13][14] \\nI received a scholarship as a Kathak dancer when I was nine. I even remember that it was due to a \\ndance performance that the first time my name had appeared in the paper. I was seven or eight \\nyears old at that time and had performed at the Guru Purnima fe stival. And there was a journalist \\nwho was there and he had written this article saying that \\'this little girl stole the show\\' – something \\nlike that. I was over the moon. So dance gave me a sense of achievement. Of worth.\"[15] \\nDixit received her education at  Divine Child High School  in Andheri . Apart from her studies, she \\nparticipated in extra -curricular activities, such as dramatics.[16] Aspiring to become a  microbiologist , \\nDixit enrolled at the  Sathaye college  in Vile Parle  (Mumbai) where she studied  microbiology  as one of her subjects in BSc.[17] However,  six months after she had commenced her course, Dixit decided \\nto discontinue studies and pursue a full -time career in films.[18] \\n '"
            ],
            "application/vnd.google.colaboratory.intrinsic+json": {
              "type": "string"
            }
          },
          "metadata": {},
          "execution_count": 30
        }
      ],
      "source": [
        "text"
      ]
    },
    {
      "cell_type": "code",
      "execution_count": 31,
      "metadata": {
        "id": "75OctfAwryC5"
      },
      "outputs": [],
      "source": [
        "from langchain.docstore.document import Document"
      ]
    },
    {
      "cell_type": "code",
      "execution_count": 32,
      "metadata": {
        "colab": {
          "base_uri": "https://localhost:8080/"
        },
        "id": "UxjlP3bvsh1g",
        "outputId": "9ea5c751-2d71-4354-bb28-79910d20ff03"
      },
      "outputs": [
        {
          "output_type": "execute_result",
          "data": {
            "text/plain": [
              "[Document(page_content='LangChain  is a framework  designed to simplify the creation of  applications  using  large language \\nmodels  (LLMs). As a language model integration framework, LangChain\\'s use -cases largely overlap \\nwith those of language models in general, including document analysis \\nand summarization , chatbots , and  code analysis .[2] \\nHistory [edit] \\nLangChain was launched in October 2022 as an  open source  project by Harrison Chase, while \\nworking at machine learning startup Robust Intelligence. The project quickly garnered \\npopularity,[3] with improvements from hundreds of con tributors on  GitHub , trending discussions \\non Twitter , lively activity on the project\\'s  Discord  server, many  YouTube  tutorials, and meetups in \\nSan Francisco and London. In April 2023, LangChain had incorporated and the new startup raised \\nover $20 million in funding at a valuation of at least $200 million from venture firm  Sequoia Capital , a \\nweek after announcing a $10 million seed investment from  Benchmark .[4][5] \\nIn October 2023 LangChain introduced LangServe, a deployment tool designed to facilitate the \\ntransition from LCEL (LangChain Expression Language) prototypes to production -ready \\napplications.[6] \\nCapabilities [edit] \\nLangChain\\'s developers highl ight the framework\\'s applicability to use -cases \\nincluding  chatbots ,[7] retrieval -augmented generation ,[8] document  summarization ,[9] and synthetic \\ndata generation.[10] \\nAs of March 2023, LangChain included integrations with systems including Amazon, Google, and \\nMicrosoft Azure  cloud storage ; API wrappers  for news, movie information, and weather;  Bash  for \\nsummarization, syntax and semantics checking, and execution of  shell scripts ; multiple  web \\nscraping  subsystems and templates;  few-shot learning  prompt generation support; finding and \\nsummarizing \"todo\" tasks in code;  Google Drive  documents, spreadshee ts, and presentations \\nsummarization, extraction, and creation;  Google Search  and Microsoft Bing  web search; OpenAI, \\nAnthropic, and Hugging Face language models;  iFixit repair guides and wikis search and \\nsummarization;  MapReduce  for question answering, combining documents, and question \\ngeneration;  N-gram  overlap scoring; PyPDF, pdfminer, fitz, and pymupdf for  PDF file  text extraction \\nand manipulation; Python and JavaScript code generation, analysis, and debugging; Milvus vector \\ndatabase[11] to store and retrieve vecto r embeddings; Weaviate vector database[12] to cache \\nembedding and data objects;  Redis  cache database storage; Python Re questsWrapper and other \\nmethods for API requests;  SQL and NoSQL  databases including  JSON  support; Streamlit, including \\nfor logging; text mapping for  k-nearest neighbors  search;  time zone  conversion and calendar \\noperations; tracing and recording stack symbols in  threaded  and asynchronous subprocess  runs; \\nand the  Wolfram Alpha  website and SDK.[13] As of April 2023, it can read from more than 50 \\ndocument types and data sources.[14] \\n \\n \\n \\n \\n \\n \\n \\n \\n \\n \\n \\n From Wikipedia, the free encyclopedia  \\nMadhuri Dixit Nene  \\n \\nDixit in 2022  \\nBorn  Madhuri Dixit  \\n \\n15 May 1967  (age 56) \\nBombay , Maharashtra , India  \\nOccupations  \\uf0b7 Actress  \\n\\uf0b7 television personality  \\nYears  active  1984–present  \\nWorks  Full list  \\nSpouse  Shriram Madhav Nene  \\n  \\n \\n(m. 1999)  \\nChildren  2 \\nAwards  Full list  \\nHonours  Padma Shri  (2008)  \\nWebsite  madhuridixit -nene.com  \\nMadhuri Dixit Nene  (née Dixit , pronounced  [d̪iːkʂɪt̪]; born 15 May 1967) is an Indian actress who \\nprimarily works in  Hindi films . A lead ing actress of  Indian cinema , she has appeared in  over \\n70 films.[1][2] Noted by critics for her beauty, dancing skills, and characters, Dixit was credite d for \\nsingularly paralleling her male contemporaries and leading  star vehicles  in a male -dominated \\nindustry.[3] \\nShe was among the country\\'s highest -paid celebrities throughout the 1990s and early 2000s, and \\nhas featured in  Forbes India \\'s Celebrity 100  list since its inception in 2012.[4][5] Her accolades  include \\nsix Filmfare Awards  from a record 17 nominations. In 2008, the  Gove rnment of India  awarded her \\nwith Padma Shri , the fourth -highest civilian honour of the country. In 2023, she was awarded \\nthe Special Recognition for Contribution to Bharatiya Cinema Award  at the  54th IFFI .[6] \\nBorn and raised in  Mumbai , Dixit made her acting debut in 1984 w ith a leading role in the \\ndrama  Abodh . After a few successive commercially failed films, she rose to prominence with the \\naction drama  Tezaab  (1988), and established herself with starring roles in the top -grossing romantic \\ndramas  Dil (1990),  Beta (1992),  Hum Aapke Hain Koun..!  (1994), and  Dil To Pagal Hai  (1997). She \\nwon four  Filmfare Awards for Best Actress  for her performances in them. Her other commercially \\nsuccessful films during this period  include  Ram \\nLakhan  (1989),  Tridev  (1989),  Thanedaar  (1990),  Kishen \\nKanhaiya  (1990),  Saajan  (1991),  Khalnayak  (1993), and  Raja (1995).  \\nApart from Dixit\\'s mainstream success, she earned  appreciation from critics for her performances \\nin Prem Pratigyaa  (1989),  Parinda  (1989),  Anjaam  (1994),  Mrityudand  (1997),  Pukar  (2000), \\nand Lajja  (2001). She received the  Filmfare Award for Best Supporting Actress  for \\nplaying  Chandramukhi  in Devdas  (2002). Following a hiatus, Dixit made a brief comeback by starring \\nin the musical  Aaja Nachle  (2007), and acted intermittently over the next  decades. Her highest -\\ngrossing release came with the adventure comedy  Total Dhamaal  (2019), and she continued to gain \\npraise for starring in the black comedy  Dedh Ishqiya  (2014) and the  Netflix  drama series  The Fame \\nGame  (2022). During this period, she primarily featured as a talent judge for dance reality shows, \\nsuch as  Jhalak Dikhhla Jaa . \\nIn addition to acting in films, she has been engaged in philanthropic activities. She has worked \\nwith UNICEF  since 2014 to advocate the  rights of children  and prevent  child labour , participates in \\nconcert tours and stage shows, and is the co -founder of the production company RnM Moving \\nPictur es. Since 1999, she has been married to Shriram Nene, with whom she has two sons Arin and \\nRyan.  \\nEarly life and background  \\nMadhuri Dixit was born on 15 May 1967 into a  Marathi[7] Kokanastha Brahmin[8] family \\nin Bombay  (present -day Mumbai ) to Shankar and Snehlata Dixit. She has two elder sisters and an \\nelder brother.[9][10][11][12] She kindled an interest in dance at an early age of three, and went on to train \\nin Kathak  for eight years; later on becoming a profession ally trained  Kathak  dancer.[13][14] \\nI received a scholarship as a Kathak dancer when I was nine. I even remember that it was due to a \\ndance performance that the first time my name had appeared in the paper. I was seven or eight \\nyears old at that time and had performed at the Guru Purnima fe stival. And there was a journalist \\nwho was there and he had written this article saying that \\'this little girl stole the show\\' – something \\nlike that. I was over the moon. So dance gave me a sense of achievement. Of worth.\"[15] \\nDixit received her education at  Divine Child High School  in Andheri . Apart from her studies, she \\nparticipated in extra -curricular activities, such as dramatics.[16] Aspiring to become a  microbiologist , \\nDixit enrolled at the  Sathaye college  in Vile Parle  (Mumbai) where she studied  microbiology  as one of her subjects in BSc.[17] However,  six months after she had commenced her course, Dixit decided \\nto discontinue studies and pursue a full -time career in films.[18] \\n ')]"
            ]
          },
          "metadata": {},
          "execution_count": 32
        }
      ],
      "source": [
        "doc = [Document(page_content=text)]\n",
        "doc"
      ]
    },
    {
      "cell_type": "code",
      "execution_count": 33,
      "metadata": {
        "id": "yT5l7AtEsnz5"
      },
      "outputs": [],
      "source": [
        "llm = ChatOpenAI(model_name = 'gpt-3.5-turbo', temperature = 0)\n"
      ]
    },
    {
      "cell_type": "code",
      "execution_count": 34,
      "metadata": {
        "id": "yKczE65es4qB"
      },
      "outputs": [],
      "source": [
        "from langchain.chains.summarize import load_summarize_chain"
      ]
    },
    {
      "cell_type": "code",
      "execution_count": 35,
      "metadata": {
        "id": "mTXt7bbrtHHH"
      },
      "outputs": [],
      "source": [
        "template = \"\"\"\n",
        "Write a concise and short summary of the following text.\n",
        "Text: '{text}'\n",
        "\"\"\"\n",
        "\n",
        "prompt_template = PromptTemplate(\n",
        "    input_variables = ['text'],\n",
        "    template = template\n",
        ")"
      ]
    },
    {
      "cell_type": "code",
      "execution_count": 36,
      "metadata": {
        "id": "f-A_QjvGtZ2X"
      },
      "outputs": [],
      "source": [
        "chain = load_summarize_chain(\n",
        "    llm,\n",
        "    chain_type = \"stuff\",\n",
        "    prompt = prompt_template,\n",
        "    verbose = False\n",
        ")"
      ]
    },
    {
      "cell_type": "code",
      "execution_count": 37,
      "metadata": {
        "id": "SM5Ka1qmuIun"
      },
      "outputs": [],
      "source": [
        "output_summary = chain.run(doc)"
      ]
    },
    {
      "cell_type": "code",
      "execution_count": 38,
      "metadata": {
        "colab": {
          "base_uri": "https://localhost:8080/",
          "height": 70
        },
        "id": "GQxNzV0-uO1p",
        "outputId": "9c07c820-27cf-4f39-9de3-353fc317587e"
      },
      "outputs": [
        {
          "output_type": "execute_result",
          "data": {
            "text/plain": [
              "'Madhuri Dixit Nene is an Indian actress known for her work in Hindi films. She has received numerous awards and accolades for her performances in over 70 films. Dixit made her acting debut in 1984 and rose to fame with movies like Tezaab, Dil, and Hum Aapke Hain Koun..! She has also been involved in philanthropic activities and is married with two sons.'"
            ],
            "application/vnd.google.colaboratory.intrinsic+json": {
              "type": "string"
            }
          },
          "metadata": {},
          "execution_count": 38
        }
      ],
      "source": [
        "output_summary"
      ]
    },
    {
      "cell_type": "markdown",
      "metadata": {
        "id": "BR4d_myawAvO"
      },
      "source": [
        "# Map Reduce Documents Chain Summarization techniques"
      ]
    },
    {
      "cell_type": "code",
      "execution_count": 39,
      "metadata": {
        "id": "9zIGYnnMudW5"
      },
      "outputs": [],
      "source": [
        "from langchain import PromptTemplate\n",
        "from langchain.chat_models import ChatOpenAI\n",
        "from langchain.text_splitter import RecursiveCharacterTextSplitter"
      ]
    },
    {
      "cell_type": "code",
      "execution_count": 41,
      "metadata": {
        "id": "d1BJef5AwYzc"
      },
      "outputs": [],
      "source": [
        "# Read PDF file data\n",
        "pdfreader = PdfReader('/content/LangChain.pdf')\n",
        "\n",
        "from typing_extensions import Concatenate\n",
        "\n",
        "# Read text form pdf\n",
        "text = ''\n",
        "for i, page in enumerate(pdfreader.pages):\n",
        "  content = page.extract_text()\n",
        "  if content:\n",
        "    text+= content"
      ]
    },
    {
      "cell_type": "code",
      "execution_count": 42,
      "metadata": {
        "id": "zruIsiTJwlrn"
      },
      "outputs": [],
      "source": [
        "llm = ChatOpenAI(model_name = 'gpt-3.5-turbo', temperature = 0)\n"
      ]
    },
    {
      "cell_type": "code",
      "execution_count": 43,
      "metadata": {
        "id": "Z4a3QcnGwn1Y"
      },
      "outputs": [],
      "source": [
        "# s1 = My self bharatbhushan -> 4 tokens (100%)\n",
        "# s2 = My i am living in Bhisi. -> 9 tokens\n",
        "\n",
        "# Splitting the original text\n",
        "text_splitter = RecursiveCharacterTextSplitter(chunk_size = 1000, chunk_overlap = 20)"
      ]
    },
    {
      "cell_type": "code",
      "execution_count": 44,
      "metadata": {
        "id": "DZdhmmKkyoPZ"
      },
      "outputs": [],
      "source": [
        "chunks = text_splitter.create_documents([text])"
      ]
    },
    {
      "cell_type": "code",
      "execution_count": 45,
      "metadata": {
        "colab": {
          "base_uri": "https://localhost:8080/"
        },
        "id": "KTo1d742yuQb",
        "outputId": "2d0970fb-ba28-4278-dbca-92978c5c9997"
      },
      "outputs": [
        {
          "output_type": "execute_result",
          "data": {
            "text/plain": [
              "8"
            ]
          },
          "metadata": {},
          "execution_count": 45
        }
      ],
      "source": [
        "len(chunks)"
      ]
    },
    {
      "cell_type": "code",
      "execution_count": 46,
      "metadata": {
        "id": "vdBbUKhnyv2W"
      },
      "outputs": [],
      "source": [
        "chain = load_summarize_chain(\n",
        "    llm,\n",
        "    chain_type = \"map_reduce\",\n",
        "\n",
        "    verbose = False\n",
        ")"
      ]
    },
    {
      "cell_type": "code",
      "execution_count": 47,
      "metadata": {
        "id": "UCmk6YVmy70G"
      },
      "outputs": [],
      "source": [
        "cummay = chain.run(chunks)"
      ]
    },
    {
      "cell_type": "code",
      "execution_count": 48,
      "metadata": {
        "colab": {
          "base_uri": "https://localhost:8080/",
          "height": 70
        },
        "id": "MhmdcWVQy_GE",
        "outputId": "46b4253a-7789-4aed-baa2-5f74e84a7413"
      },
      "outputs": [
        {
          "output_type": "execute_result",
          "data": {
            "text/plain": [
              "'LangChain is a popular framework for developing applications using large language models, with support from venture firms and various integrations. Madhuri Dixit Nene is a highly successful Indian actress known for her beauty, dancing skills, and strong characters, with numerous awards and accolades for her performances in Hindi films. She is also involved in philanthropic activities and has a background in Kathak dance.'"
            ],
            "application/vnd.google.colaboratory.intrinsic+json": {
              "type": "string"
            }
          },
          "metadata": {},
          "execution_count": 48
        }
      ],
      "source": [
        "cummay"
      ]
    },
    {
      "cell_type": "markdown",
      "metadata": {
        "id": "frlO1ProzfCx"
      },
      "source": [
        "# Map Reduce with Custom Prompts"
      ]
    },
    {
      "cell_type": "code",
      "source": [
        "chunks_prompts = \"\"\"\n",
        "Summarize the below text:\n",
        "Text: \"{text}\"\n",
        "Summary:\n",
        "\"\"\"\n",
        "map_reduce_prompt_template = PromptTemplate(\n",
        "    input_variables = [\"text\"],\n",
        "    template = chunks_prompts\n",
        ")"
      ],
      "metadata": {
        "id": "xIj3zFOoNuYg"
      },
      "execution_count": 49,
      "outputs": []
    },
    {
      "cell_type": "code",
      "execution_count": 50,
      "metadata": {
        "id": "5mboAnzhz5vj"
      },
      "outputs": [],
      "source": [
        "combine_prompts = \"\"\"\n",
        "Give me a final summary of our entire text with some important points.\n",
        "points like: Langchain, Madhuri Dixit\n",
        "Start the previce summary with an introduictction and provide the summary in number points for our text.\n",
        "Text: '{text}'\n",
        "\"\"\""
      ]
    },
    {
      "cell_type": "code",
      "execution_count": 51,
      "metadata": {
        "id": "W6StLvbL0b08"
      },
      "outputs": [],
      "source": [
        "combine_prompts = PromptTemplate(\n",
        "    input_variables = [\"text\"],\n",
        "    template = combine_prompts\n",
        ")"
      ]
    },
    {
      "cell_type": "code",
      "execution_count": 52,
      "metadata": {
        "id": "X4SC0EtK0jMU"
      },
      "outputs": [],
      "source": [
        "Final_summary = load_summarize_chain(\n",
        "    llm,\n",
        "    chain_type = \"map_reduce\",\n",
        "   combine_prompt = combine_prompts,\n",
        "    verbose = False\n",
        ")"
      ]
    },
    {
      "cell_type": "code",
      "execution_count": 53,
      "metadata": {
        "id": "Kwp1etsx0vJR"
      },
      "outputs": [],
      "source": [
        "summary = Final_summary.run(chunks)"
      ]
    },
    {
      "cell_type": "code",
      "execution_count": 56,
      "metadata": {
        "colab": {
          "base_uri": "https://localhost:8080/",
          "height": 122
        },
        "id": "1VOG0GyD0zHa",
        "outputId": "e3667f70-c4e1-4b72-e0b0-9e082f11a278"
      },
      "outputs": [
        {
          "output_type": "execute_result",
          "data": {
            "text/plain": [
              "\"In summary:\\n1. LangChain is a framework for developing applications using large language models, gaining popularity and significant funding.\\n2. LangServe was introduced to help transition LCEL prototypes to production-ready applications, with various integrations and tools for tasks like summarization and extraction.\\n3. Madhuri Dixit Nene is a highly successful Indian actress known for her beauty, dancing skills, and strong characters, winning numerous awards and accolades.\\n4. Dixit has been a leading actress in the Indian film industry since the 1990s, with hit films like Tezaab, Dil, and Hum Aapke Hain Koun..!, and critical acclaim for roles in films like Parinda and Mrityudand.\\n5. Dixit has also been involved in philanthropic activities, advocating for children's rights with UNICEF, and has a background in Kathak dance, receiving a scholarship at a young age.\""
            ],
            "application/vnd.google.colaboratory.intrinsic+json": {
              "type": "string"
            }
          },
          "metadata": {},
          "execution_count": 56
        }
      ],
      "source": [
        "summary"
      ]
    }
  ],
  "metadata": {
    "colab": {
      "provenance": [],
      "gpuType": "T4",
      "include_colab_link": true
    },
    "kernelspec": {
      "display_name": "Python 3",
      "name": "python3"
    },
    "language_info": {
      "codemirror_mode": {
        "name": "ipython",
        "version": 3
      },
      "file_extension": ".py",
      "mimetype": "text/x-python",
      "name": "python",
      "nbconvert_exporter": "python",
      "pygments_lexer": "ipython3",
      "version": "3.10.13"
    },
    "accelerator": "GPU"
  },
  "nbformat": 4,
  "nbformat_minor": 0
}
